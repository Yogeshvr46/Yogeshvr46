{
  "nbformat": 4,
  "nbformat_minor": 0,
  "metadata": {
    "colab": {
      "name": "Air_Asia (1).ipynb",
      "provenance": [],
      "collapsed_sections": [],
      "include_colab_link": true
    },
    "kernelspec": {
      "name": "python3",
      "display_name": "Python 3"
    },
    "language_info": {
      "name": "python"
    }
  },
  "cells": [
    {
      "cell_type": "markdown",
      "metadata": {
        "id": "view-in-github",
        "colab_type": "text"
      },
      "source": [
        "<a href=\"https://colab.research.google.com/github/Yogeshvr46/Yogeshvr46/blob/main/Air_Asia_(1).ipynb\" target=\"_parent\"><img src=\"https://colab.research.google.com/assets/colab-badge.svg\" alt=\"Open In Colab\"/></a>"
      ]
    },
    {
      "cell_type": "markdown",
      "metadata": {
        "id": "hH3kikFVcWmW"
      },
      "source": [
        "\n",
        "\n",
        "```\n",
        "# This is formatted as code\n",
        "```\n",
        "\n"
      ]
    },
    {
      "cell_type": "code",
      "metadata": {
        "id": "FjnQCjzsOeD6"
      },
      "source": [
        "import numpy as np\n",
        "import pandas as pd\n",
        "import matplotlib.pyplot as plt\n",
        "\n"
      ],
      "execution_count": 13,
      "outputs": []
    },
    {
      "cell_type": "markdown",
      "metadata": {
        "id": "FtW_YmjIcUi7"
      },
      "source": [
        "We use pandas read_csv function to read the csv file in python .\n",
        "dataframe method to convert file into the data frame \n",
        "\n"
      ]
    },
    {
      "cell_type": "code",
      "metadata": {
        "id": "LqVfF-TeQhd2",
        "colab": {
          "base_uri": "https://localhost:8080/",
          "height": 203
        },
        "outputId": "6ff73f6d-1462-4d3f-8d76-52cad76e93e2"
      },
      "source": [
        "df = pd.DataFrame(pd.read_csv('/content/Air Asia.csv'))\n",
        "df.head()"
      ],
      "execution_count": 7,
      "outputs": [
        {
          "output_type": "execute_result",
          "data": {
            "text/html": [
              "<div>\n",
              "<style scoped>\n",
              "    .dataframe tbody tr th:only-of-type {\n",
              "        vertical-align: middle;\n",
              "    }\n",
              "\n",
              "    .dataframe tbody tr th {\n",
              "        vertical-align: top;\n",
              "    }\n",
              "\n",
              "    .dataframe thead th {\n",
              "        text-align: right;\n",
              "    }\n",
              "</style>\n",
              "<table border=\"1\" class=\"dataframe\">\n",
              "  <thead>\n",
              "    <tr style=\"text-align: right;\">\n",
              "      <th></th>\n",
              "      <th>S.No.</th>\n",
              "      <th>Name</th>\n",
              "      <th>Age</th>\n",
              "      <th>Sex</th>\n",
              "      <th>Code Tickets</th>\n",
              "      <th>Category</th>\n",
              "      <th>Destination</th>\n",
              "    </tr>\n",
              "  </thead>\n",
              "  <tbody>\n",
              "    <tr>\n",
              "      <th>0</th>\n",
              "      <td>1</td>\n",
              "      <td>Yogesh</td>\n",
              "      <td>22</td>\n",
              "      <td>Male</td>\n",
              "      <td>001-B-A01</td>\n",
              "      <td>Buisness</td>\n",
              "      <td>MAA-DEL-CNX</td>\n",
              "    </tr>\n",
              "    <tr>\n",
              "      <th>1</th>\n",
              "      <td>2</td>\n",
              "      <td>Niresh</td>\n",
              "      <td>21</td>\n",
              "      <td>Male</td>\n",
              "      <td>001-B-B01</td>\n",
              "      <td>Buisness</td>\n",
              "      <td>MAA-DEL-CNX</td>\n",
              "    </tr>\n",
              "    <tr>\n",
              "      <th>2</th>\n",
              "      <td>3</td>\n",
              "      <td>Giri</td>\n",
              "      <td>20</td>\n",
              "      <td>Male</td>\n",
              "      <td>001-B-C01</td>\n",
              "      <td>Buisness</td>\n",
              "      <td>MAA-DEL-CNX</td>\n",
              "    </tr>\n",
              "    <tr>\n",
              "      <th>3</th>\n",
              "      <td>4</td>\n",
              "      <td>Rathana</td>\n",
              "      <td>22</td>\n",
              "      <td>Male</td>\n",
              "      <td>011-B-D01</td>\n",
              "      <td>Buisness</td>\n",
              "      <td>MAA-DEL-CNX</td>\n",
              "    </tr>\n",
              "    <tr>\n",
              "      <th>4</th>\n",
              "      <td>5</td>\n",
              "      <td>Pradeep</td>\n",
              "      <td>23</td>\n",
              "      <td>Male</td>\n",
              "      <td>011-E-A01</td>\n",
              "      <td>Econemy</td>\n",
              "      <td>MAA-DEL-CNX</td>\n",
              "    </tr>\n",
              "  </tbody>\n",
              "</table>\n",
              "</div>"
            ],
            "text/plain": [
              "   S.No.     Name  Age   Sex Code Tickets  Category  Destination\n",
              "0      1   Yogesh   22  Male    001-B-A01  Buisness  MAA-DEL-CNX\n",
              "1      2   Niresh   21  Male    001-B-B01  Buisness  MAA-DEL-CNX\n",
              "2      3     Giri   20  Male    001-B-C01  Buisness  MAA-DEL-CNX\n",
              "3      4  Rathana   22  Male    011-B-D01  Buisness  MAA-DEL-CNX\n",
              "4      5  Pradeep   23  Male    011-E-A01   Econemy  MAA-DEL-CNX"
            ]
          },
          "metadata": {
            "tags": []
          },
          "execution_count": 7
        }
      ]
    },
    {
      "cell_type": "code",
      "metadata": {
        "id": "jDdHM4G3Qzrp"
      },
      "source": [
        "df.shape"
      ],
      "execution_count": null,
      "outputs": []
    },
    {
      "cell_type": "markdown",
      "metadata": {
        "id": "UyJr90u8dQTy"
      },
      "source": [
        "***Description of the attributes of the dataset***\n",
        "\n",
        "Category:(B=Buisness,E=Econemy)\n",
        "\n",
        "name:name\n",
        "\n",
        "sex:sex\n",
        "\n",
        "ticket:code ticket\n",
        "\n",
        "destination:(MAA= Chennai International Airport,DEL= Indira Gandhi \n",
        "International Airport, CNX= Chiang Mai International Airport)\n"
      ]
    },
    {
      "cell_type": "code",
      "metadata": {
        "id": "3ClV04rmQ2TD"
      },
      "source": [
        "df.isnull().sum()"
      ],
      "execution_count": null,
      "outputs": []
    },
    {
      "cell_type": "code",
      "metadata": {
        "id": "V6YqmVJLRXWZ"
      },
      "source": [
        "df['Destination'].describe()"
      ],
      "execution_count": null,
      "outputs": []
    },
    {
      "cell_type": "markdown",
      "metadata": {
        "id": "Ql01y-9osDI2"
      },
      "source": [
        "it shows,the passengers travel more than like MAA-DEL-CNX"
      ]
    },
    {
      "cell_type": "code",
      "metadata": {
        "id": "FXwljrSAUHMg"
      },
      "source": [
        "x = df.isnull().sum()\n",
        "drop_col = x[x>(10/80 * df.shape[1])]\n",
        "drop_col"
      ],
      "execution_count": null,
      "outputs": []
    },
    {
      "cell_type": "code",
      "metadata": {
        "id": "O51QR-hVWtfi"
      },
      "source": [
        "df.corr()"
      ],
      "execution_count": null,
      "outputs": []
    },
    {
      "cell_type": "code",
      "metadata": {
        "id": "BCcRJhkOmq96"
      },
      "source": [
        "df['Sex'] = [0 if df['Sex'][i]=='male' else 1 for i in df.index]\n",
        "df.groupby(['Sex']).mean()"
      ],
      "execution_count": null,
      "outputs": []
    },
    {
      "cell_type": "markdown",
      "metadata": {
        "id": "6ptDGQmSpJf9"
      },
      "source": [
        "It shows,female passenger have more chance to travel than male ones\n",
        "\n",
        "it shows women were prioritized over men"
      ]
    },
    {
      "cell_type": "code",
      "metadata": {
        "id": "asyn0bRBlG6u"
      },
      "source": [
        "df.groupby(['Destination']).mean()"
      ],
      "execution_count": null,
      "outputs": []
    },
    {
      "cell_type": "code",
      "metadata": {
        "id": "TWTG9p79S0Ey"
      },
      "source": [
        "df.groupby(['Name']).mean()"
      ],
      "execution_count": null,
      "outputs": []
    },
    {
      "cell_type": "code",
      "metadata": {
        "id": "AIIe1QRromOm"
      },
      "source": [
        "df['Category'].describe()"
      ],
      "execution_count": null,
      "outputs": []
    },
    {
      "cell_type": "markdown",
      "metadata": {
        "id": "CVLehR1_ruqp"
      },
      "source": [
        "it shows the passengers travelin more than like Econemy Category"
      ]
    },
    {
      "cell_type": "markdown",
      "metadata": {
        "id": "9t5vyZuWA3qp"
      },
      "source": [
        ""
      ]
    },
    {
      "cell_type": "markdown",
      "metadata": {
        "id": "562c9TdDAmxY"
      },
      "source": [
        "### **Pie Charts:**"
      ]
    },
    {
      "cell_type": "markdown",
      "metadata": {
        "id": "EY2weDZjANyo"
      },
      "source": [
        "it's use the primary argument to the function will be the wedge sizes."
      ]
    },
    {
      "cell_type": "code",
      "metadata": {
        "id": "hDgcUm_8_qVl"
      },
      "source": [
        "sorted_counts = df['Category'].value_counts()\n",
        "plt.pie(sorted_counts, labels = sorted_counts.index);"
      ],
      "execution_count": null,
      "outputs": []
    },
    {
      "cell_type": "markdown",
      "metadata": {
        "id": "a4DBz1edoRiA"
      },
      "source": [
        "**CONCLUSION**\n",
        "\n",
        "\n",
        "\n",
        "*   Female passengers were prioritized over men.\n",
        "\n",
        "*   peoples are more than traveling in Econemy category.\n",
        "\n",
        "*   passengers most traveling the 'Chiang Mai International Airport' (CNX)\n",
        "\n",
        "\n",
        "\n",
        "\n"
      ]
    }
  ]
}